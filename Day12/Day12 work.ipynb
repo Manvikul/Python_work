{
 "cells": [
  {
   "cell_type": "code",
   "execution_count": 6,
   "metadata": {},
   "outputs": [
    {
     "name": "stdout",
     "output_type": "stream",
     "text": [
      "15\n",
      "11\n",
      "12\n",
      "12\n"
     ]
    }
   ],
   "source": [
    "# printing length of list(that keeps changing) items \n",
    "\n",
    "db = [\"manvi@gmail.com\", \"john@ab.com\", \"jack@123.com\", \"harry@we.com\"]\n",
    "\n",
    "for x in db:\n",
    "    m = len(x)\n",
    "    print(m)"
   ]
  },
  {
   "cell_type": "code",
   "execution_count": 3,
   "metadata": {},
   "outputs": [
    {
     "data": {
      "text/plain": [
       "list"
      ]
     },
     "execution_count": 3,
     "metadata": {},
     "output_type": "execute_result"
    }
   ],
   "source": [
    "type(db)"
   ]
  },
  {
   "cell_type": "code",
   "execution_count": 5,
   "metadata": {},
   "outputs": [
    {
     "name": "stdout",
     "output_type": "stream",
     "text": [
      "1\n",
      "2\n",
      "3\n",
      "4\n",
      "5\n",
      "6\n",
      "7\n",
      "8\n",
      "9\n",
      "34\n",
      "76\n"
     ]
    }
   ],
   "source": [
    "x = [1,2,3,4,5,6,7,8,9,34,76]\n",
    "\n",
    "for i in x:\n",
    "    print(i)"
   ]
  },
  {
   "cell_type": "code",
   "execution_count": 27,
   "metadata": {},
   "outputs": [
    {
     "name": "stdout",
     "output_type": "stream",
     "text": [
      "[1, 4, 9, 16, 25]\n"
     ]
    }
   ],
   "source": [
    "#list comprehension\n",
    "\n",
    "x = [1,2,3,4,5]\n",
    "\n",
    "y = []\n",
    "for i in x:\n",
    "    sq = i*i\n",
    "    y.append(sq)\n",
    "print(y)"
   ]
  },
  {
   "cell_type": "code",
   "execution_count": 39,
   "metadata": {},
   "outputs": [],
   "source": [
    "#list comprehension using inline approach\n",
    "\n",
    "x= [1,2,3,4,5]\n",
    "\n",
    "m = [i*i for i in x]"
   ]
  },
  {
   "cell_type": "code",
   "execution_count": 40,
   "metadata": {},
   "outputs": [
    {
     "data": {
      "text/plain": [
       "[1, 4, 9, 16, 25]"
      ]
     },
     "execution_count": 40,
     "metadata": {},
     "output_type": "execute_result"
    }
   ],
   "source": [
    "m"
   ]
  },
  {
   "cell_type": "code",
   "execution_count": null,
   "metadata": {},
   "outputs": [],
   "source": []
  },
  {
   "cell_type": "code",
   "execution_count": 42,
   "metadata": {},
   "outputs": [
    {
     "name": "stdout",
     "output_type": "stream",
     "text": [
      "[1, 4, 9, 16, 16, 0, 9, 25]\n"
     ]
    }
   ],
   "source": [
    "#don't process negative entry\n",
    "\n",
    "x = [1,2,3,4,4,-1,3,5]           \n",
    "\n",
    "y = []\n",
    "\n",
    "for i in x:\n",
    "    if i > 0 :\n",
    "        m = i*i\n",
    "        y.append(m)\n",
    "    else:\n",
    "        m = 0\n",
    "        y.append(m)\n",
    "print(y)        \n",
    "    "
   ]
  },
  {
   "cell_type": "code",
   "execution_count": null,
   "metadata": {},
   "outputs": [],
   "source": []
  },
  {
   "cell_type": "code",
   "execution_count": 45,
   "metadata": {},
   "outputs": [
    {
     "name": "stdout",
     "output_type": "stream",
     "text": [
      "[1, 4, 9, 16, 16, 0, 9, 25]\n"
     ]
    }
   ],
   "source": [
    "#above program using inline appoach\n",
    "\n",
    "x = [1,2,3,4,4,-1,3,5]           \n",
    "\n",
    "y = []\n",
    "\n",
    "m = [i*i   if i>0 else 0   for i in x]\n",
    "print(m)"
   ]
  },
  {
   "cell_type": "code",
   "execution_count": null,
   "metadata": {},
   "outputs": [],
   "source": []
  },
  {
   "cell_type": "code",
   "execution_count": 46,
   "metadata": {},
   "outputs": [
    {
     "name": "stdout",
     "output_type": "stream",
     "text": [
      "hii\n",
      "hello\n",
      "manvi here\n"
     ]
    }
   ],
   "source": [
    "#creating function /defining func\n",
    "\n",
    "def Start():\n",
    "    print(\"hii\")\n",
    "    print(\"hello\")\n",
    "    print(\"manvi here\")\n",
    "    \n",
    "    \n",
    "#calling a function\n",
    "\n",
    "Start()"
   ]
  },
  {
   "cell_type": "code",
   "execution_count": null,
   "metadata": {},
   "outputs": [],
   "source": []
  },
  {
   "cell_type": "code",
   "execution_count": 47,
   "metadata": {},
   "outputs": [
    {
     "name": "stdout",
     "output_type": "stream",
     "text": [
      "9\n"
     ]
    }
   ],
   "source": [
    "#creating dynamic func\n",
    "\n",
    "def Start(i,j):\n",
    "    x = i\n",
    "    y = j \n",
    "    m = x + y\n",
    "    print(m)\n",
    "    \n",
    "    \n",
    "#calling a function\n",
    "\n",
    "Start(5,4)"
   ]
  },
  {
   "cell_type": "code",
   "execution_count": null,
   "metadata": {},
   "outputs": [],
   "source": []
  },
  {
   "cell_type": "code",
   "execution_count": 53,
   "metadata": {},
   "outputs": [
    {
     "name": "stdout",
     "output_type": "stream",
     "text": [
      "(5, 4, 1, 6, 7, 8, 9)\n",
      "(1, 5, 3, 10)\n"
     ]
    }
   ],
   "source": [
    "#using one variable as parameter\n",
    "\n",
    "\n",
    "def Start(*i):     #star denotes that 'i' is not a variable now, it is a list & list~tuple\n",
    "    print(i)\n",
    "    \n",
    "    \n",
    "#calling a function\n",
    "\n",
    "Start(5,4,1,6,7,8,9)\n",
    "Start(1,5,3,10)"
   ]
  },
  {
   "cell_type": "code",
   "execution_count": null,
   "metadata": {},
   "outputs": [],
   "source": []
  },
  {
   "cell_type": "code",
   "execution_count": 54,
   "metadata": {},
   "outputs": [
    {
     "name": "stdout",
     "output_type": "stream",
     "text": [
      "19\n"
     ]
    }
   ],
   "source": [
    "#to dispaly sum of list/tuple usimng single variable\n",
    "\n",
    "def Start(*i):     #star denotes that 'i' is not a variable now, it is a list & list~tuple\n",
    "    m = 0\n",
    "    for x in i:\n",
    "        m = m + x\n",
    "    return(m)       \n",
    "\n",
    "#because of print() we loose control from code as it only prints on console. \n",
    "#So, through return() func we can store the value & use it in future  \n",
    "    \n",
    "    \n",
    "#calling a function\n",
    "\n",
    "Start(5,4,1,6,7,8,9)\n",
    "u = Start(1,5,3,10)\n",
    "print(u)"
   ]
  },
  {
   "cell_type": "code",
   "execution_count": null,
   "metadata": {},
   "outputs": [],
   "source": []
  }
 ],
 "metadata": {
  "kernelspec": {
   "display_name": "Python 3",
   "language": "python",
   "name": "python3"
  },
  "language_info": {
   "codemirror_mode": {
    "name": "ipython",
    "version": 3
   },
   "file_extension": ".py",
   "mimetype": "text/x-python",
   "name": "python",
   "nbconvert_exporter": "python",
   "pygments_lexer": "ipython3",
   "version": "3.8.5"
  }
 },
 "nbformat": 4,
 "nbformat_minor": 4
}
